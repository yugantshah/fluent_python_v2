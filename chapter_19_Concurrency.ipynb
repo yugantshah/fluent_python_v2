{
  "nbformat": 4,
  "nbformat_minor": 0,
  "metadata": {
    "colab": {
      "provenance": [],
      "authorship_tag": "ABX9TyNw5wDaL7e9qDuVIbjoNGus",
      "include_colab_link": true
    },
    "kernelspec": {
      "name": "python3",
      "display_name": "Python 3"
    },
    "language_info": {
      "name": "python"
    }
  },
  "cells": [
    {
      "cell_type": "markdown",
      "metadata": {
        "id": "view-in-github",
        "colab_type": "text"
      },
      "source": [
        "<a href=\"https://colab.research.google.com/github/yugantshah/fluent_python_v2/blob/main/chapter_19_Concurrency.ipynb\" target=\"_parent\"><img src=\"https://colab.research.google.com/assets/colab-badge.svg\" alt=\"Open In Colab\"/></a>"
      ]
    },
    {
      "cell_type": "markdown",
      "source": [
        "**Chapter 19. Concurrency Models in Python**"
      ],
      "metadata": {
        "id": "JX5LSts5KZC3"
      }
    },
    {
      "cell_type": "markdown",
      "source": [
        "Concurrency is about dealing with lots of things at once.\n",
        "\n",
        "Parallelism is about doing lots of things at once.\n",
        "\n",
        "Not the same, but related.\n",
        "\n",
        "One is about structure, one is about execution.\n",
        "\n",
        "Concurrency provides a way to structure a solution to solve a problem that may (but not necessarily) be parallelizable."
      ],
      "metadata": {
        "id": "gdBW46buKbfr"
      }
    },
    {
      "cell_type": "markdown",
      "source": [
        "Parallelism is a special case of concurrency, in Pike’s view. All parallel systems are concurrent, but not all concurrent systems are parallel.\n",
        "\n",
        "\n",
        "Additionally, starting a thread or a process is not cheap, so you don’t want to start one of them just to perform a single computation and quit. Often you want to amortize the startup cost by making each thread or process into a “worker” that enters a loop and stands by for inputs to work on.\n",
        "\n",
        "A coroutine is cheap to start. If you start a coroutine using the await keyword, it’s easy to get a value returned by it, it can be safely cancelled, and you have a clear site to catch exceptions. But coroutines are often started by the asynchronous framework, and that can make them as hard to monitor as threads or processes.\n",
        "\n",
        "A function that can suspend itself and resume later. In Python, classic coroutines are built from generator functions, and native coroutines are defined with async def. “Classic Coroutines” introduced the concept, and Chapter 21 covers the use of native coroutines. Python coroutines usually run within a single thread under the supervision of an event loop, also in the same thread. Asynchronous programming frameworks such as asyncio, Curio, or Trio provide an event loop and supporting libraries for nonblocking, coroutine-based I/O. Coroutines support cooperative multitasking: each coroutine must explicitly cede control with the yield or await keyword, so that another may proceed concurrently (but not in parallel). This means that any blocking code in a coroutine blocks the execution of the event loop and all other coroutines—in contrast with the preemptive multitasking supported by processes and threads. On the other hand, each coroutine consumes less resources than a thread or process doing the same job."
      ],
      "metadata": {
        "id": "IFQEGBEIMZcE"
      }
    },
    {
      "cell_type": "markdown",
      "source": [
        "**Spinner with Threads**\n",
        "\n",
        "The idea of the next few examples is simple: start a function that blocks for 3 seconds while animating characters in the terminal to let the user know that the program is “thinking” and not stalled.\n",
        "\n"
      ],
      "metadata": {
        "id": "YvfVwrEMCvOF"
      }
    },
    {
      "cell_type": "code",
      "source": [
        "# spinner_thread.py: the spin and slow functions\n",
        "import itertools\n",
        "import time\n",
        "from threading import Thread, Event\n",
        "\n",
        "def spin(msg: str, done: Event) -> None:  1\n",
        "  for char in itertools.cycle(r'\\|/-'):  2\n",
        "      status = f'\\r{char} {msg}'  3\n",
        "      print(status, end='', flush=True)\n",
        "      if done.wait(.1):  4\n",
        "          break  5\n",
        "  blanks = ' ' * len(status)\n",
        "  print(f'\\r{blanks}\\r', end='')  6\n",
        "\n",
        "def slow() -> int:\n",
        "  time.sleep(3)  7\n",
        "  return 42"
      ],
      "metadata": {
        "colab": {
          "base_uri": "https://localhost:8080/",
          "height": 106
        },
        "id": "WY2F4emoC8BT",
        "outputId": "2c5fb605-d38e-4d94-a245-dc1ccf2d1cb0"
      },
      "execution_count": 1,
      "outputs": [
        {
          "output_type": "error",
          "ename": "IndentationError",
          "evalue": "unexpected indent (ipython-input-4280373401.py, line 7)",
          "traceback": [
            "\u001b[0;36m  File \u001b[0;32m\"/tmp/ipython-input-4280373401.py\"\u001b[0;36m, line \u001b[0;32m7\u001b[0m\n\u001b[0;31m    for char in itertools.cycle(r'\\|/-'):  2\u001b[0m\n\u001b[0m    ^\u001b[0m\n\u001b[0;31mIndentationError\u001b[0m\u001b[0;31m:\u001b[0m unexpected indent\n"
          ]
        }
      ]
    },
    {
      "cell_type": "code",
      "source": [],
      "metadata": {
        "id": "PcVNq47GULxg"
      },
      "execution_count": null,
      "outputs": []
    }
  ]
}